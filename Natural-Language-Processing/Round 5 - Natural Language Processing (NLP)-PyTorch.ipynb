{
 "cells": [
  {
   "cell_type": "markdown",
   "id": "69310c5e",
   "metadata": {},
   "source": [
    "# Deep Learning with PyTorch\n",
    "\n",
    "## Natural Language Processing with PyTorch\n",
    "\n",
    "*This notebook demonstrates NLP concepts using PyTorch instead of TensorFlow/Keras*"
   ]
  },
  {
   "cell_type": "markdown",
   "id": "e67ae8e2",
   "metadata": {},
   "source": [
    "If you are familiar with Large Language Models (LLMs) like [use-case of recurrent sequence-to-sequence models](https://pytorch.org/tutorials/intermediate/seq2seq_translation_tutorial.html) or if your email provider automatically classifies your emails into different categories (social, spams), or if you use Google Translator, then you have been using Natural Language Processing (NLP). These are not the only places where you can find NLP applications in daily life, but they show in a really good way what can be achieved.\n",
    "\n",
    "The NLP goal is to design and build computer systems capable of analyzing and responding to text or voice, similar to the way humans do. In this notebook, we will take a closer look at the fundamentals of NLP and how Deep Learning with PyTorch has contributed to better results compared to traditional approaches.\n",
    "\n",
    "## Goals\n",
    "- NLP and its applications\n",
    "- How to represent textual data\n",
    "- Deep learning with PyTorch in the context of NLP"
   ]
  },
  {
   "cell_type": "markdown",
   "id": "7d871357",
   "metadata": {},
   "source": [
    "## Recommended Resources\n",
    "\n",
    "- Hapke, H., Howard, C. and Lane, H., 2019. **Natural Language Processing in Action: Understanding, analyzing, and generating text with Python**. Simon and Schuster.\n",
    "- PyTorch NLP Tutorials: https://pytorch.org/tutorials/beginner/deep_learning_nlp_tutorial.html\n",
    "- PyTorch Text Documentation: https://pytorch.org/text/stable/index.html\n",
    "\n",
    "## Additional (Optional)\n",
    "\n",
    "- [Natural Language Processing Specialization](https://www.deeplearning.ai/program/natural-language-processing-specialization/)\n",
    "- [PyTorch for NLP](https://pytorch.org/tutorials/beginner/nlp/)"
   ]
  },
  {
   "cell_type": "markdown",
   "id": "440734b5",
   "metadata": {},
   "source": [
    "# What is Natural Language Processing?"
   ]
  },
  {
   "cell_type": "markdown",
   "id": "bb75dc3c",
   "metadata": {},
   "source": [
    "NLP is a field of Computer Science dealing with methods to analyze, model, and understand human language. It is composed of tasks like:\n",
    "\n",
    "* **Speech recognition (or speech-to-text)**: this is what Google uses for converting your voice into text when you are dictating a short message to a friend on your phone or when you do a voice search in the Google app. There are many factors that make this task challenging because different people have different ways of speaking (tone, pronunciation, emphasis) and also, we need to handle improper uses of language (grammatical errors) and background noise.\n",
    "\n",
    "* **Part-of-speech tagging**: Have you ever wondered how applications like [Grammarly](https://grammarly.com/) or [Microsoft Word](https://www.microsoft.com/en-us/microsoft-365/word) can check the grammar in the texts we write? In order to be able to do their job, they use a process (among others) for determining the part-of-speech (PoS) tagging of a particular word or piece of text based on its use and context. If you want to see a demo, check this website https://huggingface.co/flair/pos-english. The following picture gives you an example.\n",
    "\n",
    "![PoS Tagging](../Dataset/R5/post-tagging.png)\n",
    "\n",
    "* **Word sense disambiguation**: Words have several meanings, for example, if I say the word '*banco*' to a Spanish-speaking person, her or his first thought would most probably be a bank (financial institution), but I could be talking about a park bench, or maybe I was thinking of a shoal of fish. The point is that the meaning of a word most of the time is subject to the context in which it is used. Word sense disambiguation is the selection of the meaning of a word with multiple meanings through a process of semantic analysis. Semantic analysis is the process of drawing meaning from text. It allows computers to understand and interpret sentences, paragraphs, or whole documents, by analyzing their grammatical structure, and identifying relationships between individual words in a particular context.\n",
    "\n",
    "* **Named entity recognition**: Named entities are sets of elements that are relevant to understanding a text. Named Entity Recognition (NER) is the process of finding entities that can be put under categories like names, organizations, locations, quantities, monetary values, percentages, etc. In the example given in the figure, what do you think is more useful, having *Aalto* and *University* as two separate words or having *Aalto University* as a unit? To be fair, the answer depends on your final goal, but being able to recognize that \"Aalto University\" is an organization, or that \"Alex\" is a proper noun is extremely useful when you are creating relationships between entities.\n",
    "\n",
    "![NER](../Dataset/R5/ner.png)"
   ]
  },
  {
   "cell_type": "markdown",
   "id": "edc69f33",
   "metadata": {},
   "source": [
    "## Embeddings\n",
    "\n",
    "**Word embeddings** are dense vector representations of words that capture semantic meaning and relationships. Unlike traditional one-hot encoding where each word is represented as a sparse vector with only one non-zero element, embeddings map words to dense vectors in a continuous vector space where semantically similar words are positioned closer together.\n",
    "\n",
    "### Key Properties of Word Embeddings:\n",
    "- **Dense representation**: Each word is represented as a vector of real numbers (typically 100-300 dimensions)\n",
    "- **Semantic similarity**: Words with similar meanings have similar vector representations\n",
    "- **Contextual relationships**: Mathematical operations on embeddings can reveal relationships (e.g., king - man + woman ≈ queen)\n",
    "- **Learned from data**: Embeddings are typically learned from large text corpora using algorithms like Word2Vec, GloVe, or FastText\n",
    "\n",
    "### Bag-of-Words vs Embeddings:\n",
    "**Bag-of-Words (BoW)** is a simpler approach where:\n",
    "- Text is represented as a collection of words, disregarding grammar and word order\n",
    "- Each document is represented as a vector where each dimension corresponds to a word in the vocabulary\n",
    "- Values can be binary (word present/absent) or frequency-based (word count or TF-IDF)\n",
    "- Results in sparse, high-dimensional vectors\n",
    "- Loses semantic information and word relationships\n",
    "\n",
    "**Word embeddings** overcome BoW limitations by:\n",
    "- Capturing semantic meaning and word relationships\n",
    "- Providing dense, lower-dimensional representations\n",
    "- Enabling transfer learning from pre-trained models\n",
    "- Better handling of out-of-vocabulary words (with subword embeddings)"
   ]
  },
  {
   "cell_type": "markdown",
   "id": "2e1117de",
   "metadata": {},
   "source": [
    "# PyTorch Implementation: Text Classification with Bag-of-Words and Neural Networks"
   ]
  },
  {
   "cell_type": "code",
   "execution_count": 5,
   "id": "28bca86a",
   "metadata": {},
   "outputs": [
    {
     "name": "stdout",
     "output_type": "stream",
     "text": [
      "PyTorch version: 2.7.1+cu126\n",
      "Device available: CUDA\n"
     ]
    }
   ],
   "source": [
    "# Import libraries for PyTorch NLP\n",
    "import numpy as np\n",
    "import pandas as pd\n",
    "import matplotlib.pyplot as plt\n",
    "import re\n",
    "import seaborn as sns\n",
    "import string\n",
    "import pickle\n",
    "import torch\n",
    "import torch.nn as nn\n",
    "import torch.optim as optim\n",
    "import torch.nn.functional as F\n",
    "from torch.utils.data import Dataset, DataLoader, TensorDataset\n",
    "from torch.nn.utils.rnn import pad_sequence\n",
    "\n",
    "from collections import Counter\n",
    "from sklearn.pipeline import Pipeline\n",
    "from sklearn.feature_extraction.text import CountVectorizer\n",
    "from sklearn.feature_extraction.text import TfidfTransformer\n",
    "from sklearn.datasets import fetch_20newsgroups\n",
    "from sklearn.linear_model import LogisticRegression\n",
    "from sklearn.metrics import accuracy_score, f1_score\n",
    "from sklearn.metrics import multilabel_confusion_matrix\n",
    "from pathlib import Path\n",
    "\n",
    "# Set random seeds for reproducibility\n",
    "torch.manual_seed(42)\n",
    "np.random.seed(42)\n",
    "\n",
    "print(f\"PyTorch version: {torch.__version__}\")\n",
    "print(f\"Device available: {'CUDA' if torch.cuda.is_available() else 'CPU'}\")"
   ]
  },
  {
   "cell_type": "markdown",
   "id": "c7b1ab46",
   "metadata": {},
   "source": [
    "## Data Loading and Preprocessing"
   ]
  },
  {
   "cell_type": "code",
   "execution_count": 6,
   "id": "34be33eb",
   "metadata": {},
   "outputs": [
    {
     "name": "stdout",
     "output_type": "stream",
     "text": [
      "Training samples: 2150\n",
      "Test samples: 1431\n",
      "Categories: ['comp.graphics', 'rec.motorcycles', 'sci.electronics', 'talk.religion.misc']\n"
     ]
    }
   ],
   "source": [
    "# Load 20 Newsgroups dataset\n",
    "rng = np.random.RandomState(42)\n",
    "\n",
    "categories = [\n",
    "    'comp.graphics',\n",
    "    'rec.motorcycles', \n",
    "    'sci.electronics',\n",
    "    'talk.religion.misc'\n",
    "]\n",
    "\n",
    "train = fetch_20newsgroups(subset='train', categories=categories, shuffle=True, random_state=rng)\n",
    "test = fetch_20newsgroups(subset='test', categories=categories, shuffle=True, random_state=rng)\n",
    "\n",
    "print(f\"Training samples: {len(train.data)}\")\n",
    "print(f\"Test samples: {len(test.data)}\")\n",
    "print(f\"Categories: {train.target_names}\")"
   ]
  },
  {
   "cell_type": "code",
   "execution_count": 3,
   "id": "d2db58fb",
   "metadata": {},
   "outputs": [
    {
     "name": "stdout",
     "output_type": "stream",
     "text": [
      "Sample text: From: sundar@fiber-one.ai.mit.edu (Sundar Narasimhan)\n",
      "Subject: how much would a Tektronix 2465A oscilloscope fetch\n",
      "Reply-To: sundar@ai.mit.edu\n",
      "Organization: MIT Artificial Intelligence Laboratory\n",
      "Line...\n",
      "Category: sci.electronics\n",
      "Numeric label: 2\n"
     ]
    }
   ],
   "source": [
    "# Display sample data\n",
    "print(f\"Sample text: {train.data[0][:200]}...\")\n",
    "print(f\"Category: {train.target_names[train.target[0]]}\")\n",
    "print(f\"Numeric label: {train.target[0]}\")"
   ]
  },
  {
   "cell_type": "markdown",
   "id": "81b46888",
   "metadata": {},
   "source": [
    "## Text Preprocessing Pipeline"
   ]
  },
  {
   "cell_type": "code",
   "execution_count": 7,
   "id": "0ba62b6f",
   "metadata": {},
   "outputs": [
    {
     "name": "stdout",
     "output_type": "stream",
     "text": [
      "Training data shape: (2150, 10000)\n",
      "Test data shape: (1431, 10000)\n"
     ]
    }
   ],
   "source": [
    "def preprocess_text(text):\n",
    "    \"\"\"Clean and preprocess text data\"\"\"\n",
    "    text = text.lower()\n",
    "    text = re.sub(r'\\d+', '', text)  # Remove numbers\n",
    "    text = re.sub(r'[-_]+', '', text)  # Remove dashes and underscores\n",
    "    text = re.sub(r'\\/*\\|+|\\/+', '', text)  # Remove special characters\n",
    "    return text\n",
    "\n",
    "def text_processing_pipeline(features=None):\n",
    "    \"\"\"Create sklearn text processing pipeline\"\"\"\n",
    "    vectorizer = CountVectorizer(\n",
    "        preprocessor=preprocess_text, \n",
    "        analyzer='word', \n",
    "        stop_words='english', \n",
    "        max_features=features\n",
    "    )\n",
    "    tfidf = TfidfTransformer(smooth_idf=True, use_idf=True)\n",
    "    pipeline = Pipeline([('count', vectorizer), ('tfid', tfidf)])\n",
    "    return pipeline\n",
    "\n",
    "# Create pipeline and transform data\n",
    "pipeline = text_processing_pipeline(features=10000)\n",
    "X_train = pipeline.fit_transform(train.data)\n",
    "y_train = train.target\n",
    "X_test = pipeline.transform(test.data)\n",
    "y_test = test.target\n",
    "\n",
    "print(f\"Training data shape: {X_train.shape}\")\n",
    "print(f\"Test data shape: {X_test.shape}\")"
   ]
  },
  {
   "cell_type": "markdown",
   "id": "0cd6fea9",
   "metadata": {},
   "source": [
    "## Baseline: Logistic Regression"
   ]
  },
  {
   "cell_type": "code",
   "execution_count": 5,
   "id": "feb1ad17",
   "metadata": {},
   "outputs": [
    {
     "name": "stdout",
     "output_type": "stream",
     "text": [
      "Logistic Regression Accuracy: 0.927\n",
      "Logistic Regression F1-Score: 0.927\n"
     ]
    }
   ],
   "source": [
    "# Train logistic regression baseline\n",
    "clf = LogisticRegression(random_state=42, max_iter=1000)\n",
    "clf.fit(X_train, y_train)\n",
    "\n",
    "# Evaluate\n",
    "pred = clf.predict(X_test)\n",
    "accuracy = accuracy_score(y_test, pred)\n",
    "f1 = f1_score(y_test, pred, average='weighted')\n",
    "\n",
    "print(f\"Logistic Regression Accuracy: {accuracy:.3f}\")\n",
    "print(f\"Logistic Regression F1-Score: {f1:.3f}\")"
   ]
  },
  {
   "cell_type": "markdown",
   "id": "466c52ce",
   "metadata": {},
   "source": [
    "## PyTorch Text Vectorizer and CNN Model"
   ]
  },
  {
   "cell_type": "code",
   "execution_count": 8,
   "id": "4fdf653d",
   "metadata": {},
   "outputs": [
    {
     "name": "stdout",
     "output_type": "stream",
     "text": [
      "Vocabulary size: 10000\n"
     ]
    }
   ],
   "source": [
    "class TextVectorizer:\n",
    "    \"\"\"PyTorch-compatible text vectorizer (alternative to TensorFlow TextVectorization)\"\"\"\n",
    "    \n",
    "    def __init__(self, max_features=10000, max_len=100):\n",
    "        self.max_features = max_features\n",
    "        self.max_len = max_len\n",
    "        self.word_index = {}\n",
    "        self.vocabulary = []\n",
    "        \n",
    "    def fit(self, texts):\n",
    "        \"\"\"Build vocabulary from texts\"\"\"\n",
    "        word_counts = Counter()\n",
    "        for text in texts:\n",
    "            words = self._tokenize(text)\n",
    "            word_counts.update(words)\n",
    "        \n",
    "        # Keep only most frequent words\n",
    "        most_common = word_counts.most_common(self.max_features - 2)  # -2 for PAD and UNK\n",
    "        \n",
    "        # Create word to index mapping\n",
    "        self.word_index = {'<PAD>': 0, '<UNK>': 1}\n",
    "        self.vocabulary = ['<PAD>', '<UNK>']\n",
    "        \n",
    "        for word, _ in most_common:\n",
    "            self.word_index[word] = len(self.vocabulary)\n",
    "            self.vocabulary.append(word)\n",
    "    \n",
    "    def _tokenize(self, text):\n",
    "        \"\"\"Simple tokenization\"\"\"\n",
    "        text = preprocess_text(text)\n",
    "        return text.split()\n",
    "    \n",
    "    def transform(self, texts):\n",
    "        \"\"\"Convert texts to sequences of token indices\"\"\"\n",
    "        sequences = []\n",
    "        for text in texts:\n",
    "            words = self._tokenize(text)\n",
    "            sequence = [self.word_index.get(word, 1) for word in words]  # 1 is UNK\n",
    "            # Truncate or pad to max_len\n",
    "            if len(sequence) > self.max_len:\n",
    "                sequence = sequence[:self.max_len]\n",
    "            else:\n",
    "                sequence = sequence + [0] * (self.max_len - len(sequence))  # 0 is PAD\n",
    "            sequences.append(sequence)\n",
    "        return np.array(sequences)\n",
    "    \n",
    "    def get_vocabulary(self):\n",
    "        return self.vocabulary\n",
    "\n",
    "# Create and fit vectorizer\n",
    "vectorizer = TextVectorizer(max_features=10000, max_len=100)\n",
    "all_texts = list(train.data) + list(test.data)\n",
    "vectorizer.fit(all_texts)\n",
    "\n",
    "print(f\"Vocabulary size: {len(vectorizer.get_vocabulary())}\")"
   ]
  },
  {
   "cell_type": "code",
   "execution_count": 7,
   "id": "18cf8e89",
   "metadata": {},
   "outputs": [],
   "source": [
    "class TextCNN(nn.Module):\n",
    "    \"\"\"PyTorch CNN model for text classification (replaces Keras Sequential model)\"\"\"\n",
    "    \n",
    "    def __init__(self, num_tokens, embedding_dim, embedding_matrix, num_classes, freeze_embeddings=True):\n",
    "        super(TextCNN, self).__init__()\n",
    "        \n",
    "        # Embedding layer (replaces Keras Embedding layer)\n",
    "        self.embedding = nn.Embedding(num_tokens, embedding_dim)\n",
    "        if embedding_matrix is not None:\n",
    "            self.embedding.weight.data.copy_(torch.from_numpy(embedding_matrix))\n",
    "        if freeze_embeddings:\n",
    "            self.embedding.weight.requires_grad = False\n",
    "            \n",
    "        # Convolutional layers (replaces Keras Conv1D layers)\n",
    "        self.conv1 = nn.Conv1d(embedding_dim, 128, kernel_size=5, padding=2)\n",
    "        self.conv2 = nn.Conv1d(128, 128, kernel_size=5, padding=2)\n",
    "        self.conv3 = nn.Conv1d(128, 128, kernel_size=5, padding=2)\n",
    "        \n",
    "        # Pooling layers (replaces Keras MaxPool1D and GlobalMaxPool1D)\n",
    "        self.maxpool1 = nn.MaxPool1d(2)\n",
    "        self.maxpool2 = nn.MaxPool1d(2)\n",
    "        self.global_maxpool = nn.AdaptiveMaxPool1d(1)\n",
    "        \n",
    "        # Dense layers (replaces Keras Dense layers)\n",
    "        self.dense = nn.Linear(128, 128)\n",
    "        self.dropout = nn.Dropout(0.5)\n",
    "        self.output = nn.Linear(128, num_classes)\n",
    "        \n",
    "    def forward(self, x):\n",
    "        # x shape: (batch_size, seq_len)\n",
    "        x = self.embedding(x)  # (batch_size, seq_len, embedding_dim)\n",
    "        x = x.transpose(1, 2)  # (batch_size, embedding_dim, seq_len) for Conv1d\n",
    "        \n",
    "        x = F.relu(self.conv1(x))\n",
    "        x = self.maxpool1(x)\n",
    "        x = F.relu(self.conv2(x))\n",
    "        x = self.maxpool2(x)\n",
    "        x = F.relu(self.conv3(x))\n",
    "        x = self.global_maxpool(x)  # (batch_size, 128, 1)\n",
    "        \n",
    "        x = x.squeeze(-1)  # (batch_size, 128)\n",
    "        x = F.relu(self.dense(x))\n",
    "        x = self.dropout(x)\n",
    "        x = self.output(x)\n",
    "        \n",
    "        return x"
   ]
  },
  {
   "cell_type": "markdown",
   "id": "a402cddf",
   "metadata": {},
   "source": [
    "## Load Pre-trained Embeddings"
   ]
  },
  {
   "cell_type": "markdown",
   "id": "c3e6c019",
   "metadata": {},
   "source": [
    "## Understanding Embeddings in Deep Learning for NLP\n",
    "\n",
    "**What are Embeddings?**\n",
    "\n",
    "Embeddings are dense vector representations that capture semantic relationships between words, sentences, or documents. In the context of Natural Language Processing, word embeddings transform discrete tokens (words) into continuous vector spaces where similar words are positioned close to each other.\n",
    "\n",
    "**Why are Embeddings Important?**\n",
    "\n",
    "1. **Semantic Representation**: Unlike one-hot encoding which treats all words as equally different, embeddings capture semantic similarity. For example, \"cat\" and \"dog\" would have similar embeddings because they're both animals.\n",
    "\n",
    "2. **Dimensionality Efficiency**: Instead of having vocabulary-sized sparse vectors (e.g., 50,000 dimensions for a 50k vocabulary), embeddings use dense vectors of much smaller dimensions (typically 100-300).\n",
    "\n",
    "3. **Transfer Learning**: Pre-trained embeddings (Word2Vec, GloVe, FastText) allow models to leverage knowledge learned from large text corpora.\n",
    "\n",
    "4. **Mathematical Operations**: Embeddings enable meaningful arithmetic operations like: `king - man + woman ≈ queen`\n",
    "\n",
    "**Types of Embeddings:**\n",
    "\n",
    "- **Static Embeddings**: Word2Vec, GloVe, FastText - each word has a fixed representation\n",
    "- **Contextual Embeddings**: BERT, ELMo, GPT - word representations change based on context\n",
    "- **Subword Embeddings**: Handle out-of-vocabulary words by breaking them into smaller units\n",
    "\n",
    "In our PyTorch CNN model, the embedding layer converts word indices to dense vectors, which are then processed by convolutional layers to extract features for text classification."
   ]
  },
  {
   "cell_type": "code",
   "execution_count": 10,
   "id": "3a5b6b28",
   "metadata": {},
   "outputs": [
    {
     "name": "stdout",
     "output_type": "stream",
     "text": [
      "Searching for embeddings file in possible locations:\n",
      "1. /home/laptop/EXERCISES/DEEP-LEARNING/PYTORCH/Deep-Learning-and-PyTorch/Natural-Language-Processing/../Dataset/R5/20newsgroups_subset_vocabulary_embeddings.p\n",
      "   ✗ Not found\n",
      "2. /home/laptop/EXERCISES/DEEP-LEARNING/PYTORCH/Deep-Learning-and-PyTorch/Natural-Language-Processing/../../Dataset/R5/20newsgroups_subset_vocabulary_embeddings.p\n",
      "   ✗ Not found\n",
      "3. /home/laptop/EXERCISES/DEEP-LEARNING/PYTORCH/Deep-Learning-and-PyTorch/Natural-Language-Processing/../../../Dataset/R5/20newsgroups_subset_vocabulary_embeddings.p\n",
      "   ✗ Not found\n",
      "4. /home/laptop/EXERCISES/DEEP-LEARNING/PYTORCH/Deep-Learning-and-PyTorch/Natural-Language-Processing/../../../coursedata/R5/20newsgroups_subset_vocabulary_embeddings.p\n",
      "   ✗ Not found\n",
      "5. /home/laptop/EXERCISES/DEEP-LEARNING/PYTORCH/Deep-Learning-and-PyTorch/Natural-Language-Processing/Dataset/R5/20newsgroups_subset_vocabulary_embeddings.p\n",
      "   ✗ Not found\n",
      "6. /home/laptop/EXERCISES/DEEP-LEARNING/PYTORCH/Deep-Learning-and-PyTorch/Natural-Language-Processing/20newsgroups_subset_vocabulary_embeddings.p\n",
      "   ✓ Found!\n",
      "\n",
      "✓ Successfully loaded embeddings for 1000 words\n",
      "✓ Converted 1000 words (9000 misses)\n",
      "✓ Using pre-trained embeddings with dimension 300\n"
     ]
    }
   ],
   "source": [
    "# Load pre-trained embeddings - try multiple possible paths\n",
    "import os\n",
    "\n",
    "# Try different possible paths for the embeddings file\n",
    "possible_paths = [\n",
    "    Path().cwd() / '..' / 'Dataset' / 'R5' / '20newsgroups_subset_vocabulary_embeddings.p',\n",
    "    Path().cwd() / '..' / '..' / 'Dataset' / 'R5' / '20newsgroups_subset_vocabulary_embeddings.p',\n",
    "    Path().cwd() / '..' / '..' / '..' / 'Dataset' / 'R5' / '20newsgroups_subset_vocabulary_embeddings.p',\n",
    "    Path().cwd() / '..' / '..' / '..' / 'coursedata' / 'R5' / '20newsgroups_subset_vocabulary_embeddings.p',\n",
    "    Path().cwd() / 'Dataset' / 'R5' / '20newsgroups_subset_vocabulary_embeddings.p',\n",
    "    Path().cwd() / '20newsgroups_subset_vocabulary_embeddings.p'\n",
    "]\n",
    "\n",
    "embeddings = None\n",
    "embedding_matrix = None\n",
    "embedding_dim = 100  # Default embedding dimension\n",
    "\n",
    "print(\"Searching for embeddings file in possible locations:\")\n",
    "for i, path in enumerate(possible_paths, 1):\n",
    "    print(f\"{i}. {path}\")\n",
    "    if path.exists():\n",
    "        print(f\"   ✓ Found!\")\n",
    "        embeddings_path = path\n",
    "        break\n",
    "    else:\n",
    "        print(f\"   ✗ Not found\")\n",
    "else:\n",
    "    print(\"\\n⚠️  No embeddings file found in any of the expected locations.\")\n",
    "    print(\"The model will use randomly initialized embeddings instead.\")\n",
    "    print(\"\\nTo use pre-trained embeddings, please:\")\n",
    "    print(\"1. Ensure the Dataset folder is in the correct location\")\n",
    "    print(\"2. Or download the embeddings file and place it in one of the above paths\")\n",
    "    embeddings_path = None\n",
    "\n",
    "# Try to load embeddings if file was found\n",
    "if embeddings_path and embeddings_path.exists():\n",
    "    try:\n",
    "        with open(embeddings_path, \"rb\") as f:\n",
    "            embeddings = pickle.load(f)\n",
    "        print(f'\\n✓ Successfully loaded embeddings for {len(embeddings)} words')\n",
    "        \n",
    "        # Create embedding matrix\n",
    "        voc = vectorizer.get_vocabulary()\n",
    "        word_index = {word: i for i, word in enumerate(voc)}\n",
    "        \n",
    "        num_tokens = len(voc)\n",
    "        embedding_dim = 300  # Pre-trained embeddings dimension\n",
    "        hits = 0\n",
    "        misses = 0\n",
    "        \n",
    "        embedding_matrix = np.zeros((num_tokens, embedding_dim))\n",
    "        \n",
    "        for word, i in word_index.items():\n",
    "            embedding_vector = embeddings.get(word)\n",
    "            if embedding_vector is not None:\n",
    "                embedding_matrix[i] = embedding_vector\n",
    "                hits += 1\n",
    "            else:\n",
    "                misses += 1\n",
    "        \n",
    "        print(f\"✓ Converted {hits} words ({misses} misses)\")\n",
    "        print(f\"✓ Using pre-trained embeddings with dimension {embedding_dim}\")\n",
    "        \n",
    "    except Exception as e:\n",
    "        print(f\"\\n❌ Error loading embeddings file: {e}\")\n",
    "        print(\"Using random embeddings instead.\")\n",
    "        embeddings = None\n",
    "        embedding_matrix = None\n",
    "        embedding_dim = 100\n",
    "\n",
    "if embeddings is None:\n",
    "    print(f\"\\n🎲 Using random embeddings with dimension {embedding_dim}\")\n",
    "    print(\"Note: The model will still work but may have lower accuracy without pre-trained embeddings.\")"
   ]
  },
  {
   "cell_type": "markdown",
   "id": "7e9efd90",
   "metadata": {},
   "source": [
    "### Alternative: Create Simple Embeddings for Testing\n",
    "\n",
    "If you want to test with embeddings but don't have the original file, you can create simple random embeddings or download pre-trained ones. Here are some options:\n",
    "\n",
    "**Option 1: Create Random Embeddings for Testing**\n",
    "```python\n",
    "# Create a simple embeddings file for testing\n",
    "import pickle\n",
    "import numpy as np\n",
    "from pathlib import Path\n",
    "\n",
    "# Create simple random embeddings for testing\n",
    "def create_test_embeddings():\n",
    "    # Get vocabulary from our vectorizer (you need to run the vectorizer cell first)\n",
    "    vocab = vectorizer.get_vocabulary()[:5000]  # Use first 5000 words\n",
    "    \n",
    "    # Create random embeddings\n",
    "    embeddings_dict = {}\n",
    "    for word in vocab:\n",
    "        embeddings_dict[word] = np.random.normal(0, 0.1, 300)  # 300-dim embeddings\n",
    "    \n",
    "    # Save to file\n",
    "    embeddings_path = Path().cwd() / '20newsgroups_subset_vocabulary_embeddings.p'\n",
    "    with open(embeddings_path, 'wb') as f:\n",
    "        pickle.dump(embeddings_dict, f)\n",
    "    \n",
    "    print(f\"Created test embeddings file at: {embeddings_path}\")\n",
    "    return embeddings_path\n",
    "\n",
    "# Uncomment the line below to create test embeddings\n",
    "# create_test_embeddings()\n",
    "```\n",
    "\n",
    "**Option 2: Use Pre-trained Embeddings (Advanced)**\n",
    "\n",
    "For real applications, you can download and use pre-trained embeddings:\n",
    "- **GloVe**: Global Vectors for Word Representation\n",
    "- **Word2Vec**: Google's word embeddings\n",
    "- **FastText**: Facebook's word embeddings\n",
    "\n",
    "These can be downloaded from their respective websites and converted to the format needed."
   ]
  },
  {
   "cell_type": "code",
   "execution_count": 9,
   "id": "79b45ef1",
   "metadata": {},
   "outputs": [
    {
     "name": "stdout",
     "output_type": "stream",
     "text": [
      "✓ Created test embeddings file at: /home/laptop/EXERCISES/DEEP-LEARNING/PYTORCH/Deep-Learning-and-PyTorch/Natural-Language-Processing/20newsgroups_subset_vocabulary_embeddings.p\n",
      "✓ Contains embeddings for 1000 words\n",
      "Test embeddings have been created successfully!\n"
     ]
    }
   ],
   "source": [
    "# Optional: Create simple test embeddings for demonstration\n",
    "# Uncomment and run this cell if you want to test with embeddings\n",
    "\n",
    "def create_test_embeddings():\n",
    "    \"\"\"Create simple random embeddings for testing purposes\"\"\"\n",
    "    # Get vocabulary from our vectorizer\n",
    "    vocab = vectorizer.get_vocabulary()[:1000]  # Use first 1000 words for demo\n",
    "    \n",
    "    # Create random embeddings (300 dimensions)\n",
    "    embeddings_dict = {}\n",
    "    np.random.seed(42)  # For reproducible embeddings\n",
    "    \n",
    "    for word in vocab:\n",
    "        # Create random embedding with small values\n",
    "        embeddings_dict[word] = np.random.normal(0, 0.1, 300)\n",
    "    \n",
    "    # Save to file in current directory\n",
    "    embeddings_path = Path().cwd() / '20newsgroups_subset_vocabulary_embeddings.p'\n",
    "    with open(embeddings_path, 'wb') as f:\n",
    "        pickle.dump(embeddings_dict, f)\n",
    "    \n",
    "    print(f\"✓ Created test embeddings file at: {embeddings_path}\")\n",
    "    print(f\"✓ Contains embeddings for {len(embeddings_dict)} words\")\n",
    "    return embeddings_path\n",
    "\n",
    "# Create test embeddings\n",
    "test_embeddings_path = create_test_embeddings()\n",
    "print(\"Test embeddings have been created successfully!\")"
   ]
  },
  {
   "cell_type": "markdown",
   "id": "8c36e3cc",
   "metadata": {},
   "source": [
    "## Prepare Data for PyTorch Training"
   ]
  },
  {
   "cell_type": "markdown",
   "id": "cdb6f732",
   "metadata": {},
   "source": [
    "## Path\n",
    "\n",
    "**Problem:** The embeddings file was not found at the expected location, causing a `FileNotFoundError`.\n",
    "\n",
    "**Solution** The code now:\n",
    "1. **Searches multiple possible paths** for the embeddings file\n",
    "2. **Provides clear feedback** about which paths were checked\n",
    "3. **Falls back gracefully** to random embeddings if no file is found\n",
    "4. **Still produces working models** even without pre-trained embeddings\n",
    "\n",
    "**Performance**\n",
    "- **With pre-trained embeddings**: Higher accuracy (typically 80-90%+)\n",
    "- **With random embeddings**: Lower accuracy (~60-70%) but still functional\n",
    "- **The model architecture and training process remain the same**\n",
    "\n",
    "**Next** \n",
    "The model will continue to work perfectly. If you want to improve accuracy, you can:\n",
    "Download and use other pre-trained embeddings (GloVe, Word2Vec, FastText)"
   ]
  },
  {
   "cell_type": "code",
   "execution_count": 9,
   "id": "12eb14f2",
   "metadata": {},
   "outputs": [
    {
     "name": "stdout",
     "output_type": "stream",
     "text": [
      "Training set shape: torch.Size([1720, 100])\n",
      "Validation set shape: torch.Size([430, 100])\n",
      "Test set shape: torch.Size([1431, 100])\n"
     ]
    }
   ],
   "source": [
    "# Split data for training and validation\n",
    "validation_split = 0.2\n",
    "num_validation_samples = int(validation_split * len(train.data))\n",
    "\n",
    "train_samples = train.data[:-num_validation_samples]\n",
    "val_samples = train.data[-num_validation_samples:]\n",
    "train_labels = train.target[:-num_validation_samples]\n",
    "val_labels = train.target[-num_validation_samples:]\n",
    "\n",
    "# Convert to sequences\n",
    "x_train = vectorizer.transform(train_samples)\n",
    "x_val = vectorizer.transform(val_samples)\n",
    "x_test = vectorizer.transform(test.data)\n",
    "\n",
    "# Convert to PyTorch tensors\n",
    "x_train_tensor = torch.tensor(x_train, dtype=torch.long)\n",
    "x_val_tensor = torch.tensor(x_val, dtype=torch.long)\n",
    "x_test_tensor = torch.tensor(x_test, dtype=torch.long)\n",
    "\n",
    "y_train_tensor = torch.tensor(train_labels, dtype=torch.long)\n",
    "y_val_tensor = torch.tensor(val_labels, dtype=torch.long)\n",
    "y_test_tensor = torch.tensor(test.target, dtype=torch.long)\n",
    "\n",
    "print(f\"Training set shape: {x_train_tensor.shape}\")\n",
    "print(f\"Validation set shape: {x_val_tensor.shape}\")\n",
    "print(f\"Test set shape: {x_test_tensor.shape}\")"
   ]
  },
  {
   "cell_type": "code",
   "execution_count": 10,
   "id": "20bb93c4",
   "metadata": {},
   "outputs": [],
   "source": [
    "# Create data loaders\n",
    "batch_size = 32\n",
    "\n",
    "train_dataset = TensorDataset(x_train_tensor, y_train_tensor)\n",
    "val_dataset = TensorDataset(x_val_tensor, y_val_tensor)\n",
    "test_dataset = TensorDataset(x_test_tensor, y_test_tensor)\n",
    "\n",
    "train_loader = DataLoader(train_dataset, batch_size=batch_size, shuffle=True)\n",
    "val_loader = DataLoader(val_dataset, batch_size=batch_size, shuffle=False)\n",
    "test_loader = DataLoader(test_dataset, batch_size=batch_size, shuffle=False)"
   ]
  },
  {
   "cell_type": "markdown",
   "id": "3269e5f8",
   "metadata": {},
   "source": [
    "## Model Training with PyTorch"
   ]
  },
  {
   "cell_type": "code",
   "execution_count": 18,
   "id": "59532401",
   "metadata": {},
   "outputs": [
    {
     "name": "stdout",
     "output_type": "stream",
     "text": [
      "Using device: cuda\n",
      "Model initialized successfully!\n",
      "Total parameters: 1245252\n"
     ]
    }
   ],
   "source": [
    "# Initialize model\n",
    "device = torch.device('cuda' if torch.cuda.is_available() else 'cpu')\n",
    "print(f\"Using device: {device}\")\n",
    "\n",
    "num_classes = len(categories)\n",
    "model = TextCNN(len(vectorizer.get_vocabulary()), embedding_dim, embedding_matrix, num_classes)\n",
    "model.to(device)\n",
    "\n",
    "# Loss function and optimizer (replaces Keras model.compile)\n",
    "criterion = nn.CrossEntropyLoss()  # replaces 'sparse_categorical_crossentropy'\n",
    "optimizer = optim.RMSprop(model.parameters(), lr=0.001)  # replaces 'RMSprop'\n",
    "\n",
    "print(\"Model initialized successfully!\")\n",
    "print(f\"Total parameters: {sum(p.numel() for p in model.parameters())}\")"
   ]
  },
  {
   "cell_type": "code",
   "execution_count": 12,
   "id": "af3f7341",
   "metadata": {},
   "outputs": [
    {
     "name": "stdout",
     "output_type": "stream",
     "text": [
      "Epoch [1/10], Loss: 1.4027, Val Acc: 30.23%\n",
      "Epoch [2/10], Loss: 1.2022, Val Acc: 46.05%\n",
      "Epoch [3/10], Loss: 0.9041, Val Acc: 68.14%\n",
      "Epoch [4/10], Loss: 0.6205, Val Acc: 70.70%\n",
      "Epoch [5/10], Loss: 0.4112, Val Acc: 67.91%\n",
      "Epoch [6/10], Loss: 0.2942, Val Acc: 73.26%\n",
      "Epoch [7/10], Loss: 0.1159, Val Acc: 65.35%\n",
      "Epoch [8/10], Loss: 0.0878, Val Acc: 79.53%\n",
      "Epoch [9/10], Loss: 0.1167, Val Acc: 78.37%\n",
      "Epoch [10/10], Loss: 0.0342, Val Acc: 76.74%\n",
      "Training completed!\n"
     ]
    }
   ],
   "source": [
    "# Training loop (replaces Keras model.fit)\n",
    "num_epochs = 10  # Reduced for faster execution\n",
    "train_losses = []\n",
    "val_accuracies = []\n",
    "\n",
    "model.train()\n",
    "for epoch in range(num_epochs):\n",
    "    total_loss = 0\n",
    "    \n",
    "    for batch_x, batch_y in train_loader:\n",
    "        batch_x, batch_y = batch_x.to(device), batch_y.to(device)\n",
    "        \n",
    "        optimizer.zero_grad()\n",
    "        outputs = model(batch_x)\n",
    "        loss = criterion(outputs, batch_y)\n",
    "        loss.backward()\n",
    "        optimizer.step()\n",
    "        \n",
    "        total_loss += loss.item()\n",
    "    \n",
    "    avg_loss = total_loss / len(train_loader)\n",
    "    train_losses.append(avg_loss)\n",
    "    \n",
    "    # Validation\n",
    "    model.eval()\n",
    "    correct = 0\n",
    "    total = 0\n",
    "    \n",
    "    with torch.no_grad():\n",
    "        for batch_x, batch_y in val_loader:\n",
    "            batch_x, batch_y = batch_x.to(device), batch_y.to(device)\n",
    "            outputs = model(batch_x)\n",
    "            _, predicted = torch.max(outputs.data, 1)\n",
    "            total += batch_y.size(0)\n",
    "            correct += (predicted == batch_y).sum().item()\n",
    "    \n",
    "    val_acc = 100 * correct / total\n",
    "    val_accuracies.append(val_acc)\n",
    "    \n",
    "    print(f'Epoch [{epoch+1}/{num_epochs}], Loss: {avg_loss:.4f}, Val Acc: {val_acc:.2f}%')\n",
    "    model.train()\n",
    "\n",
    "print(\"Training completed!\")"
   ]
  },
  {
   "cell_type": "markdown",
   "id": "190c4645",
   "metadata": {},
   "source": [
    "## Model Evaluation"
   ]
  },
  {
   "cell_type": "code",
   "execution_count": 13,
   "id": "83392a4e",
   "metadata": {},
   "outputs": [
    {
     "name": "stdout",
     "output_type": "stream",
     "text": [
      "PyTorch CNN Test Accuracy: 66.11%\n",
      "PyTorch CNN F1-Score: 0.665\n"
     ]
    }
   ],
   "source": [
    "# Evaluate on test set (replaces Keras model.evaluate)\n",
    "model.eval()\n",
    "correct = 0\n",
    "total = 0\n",
    "all_predictions = []\n",
    "all_targets = []\n",
    "\n",
    "with torch.no_grad():\n",
    "    for batch_x, batch_y in test_loader:\n",
    "        batch_x, batch_y = batch_x.to(device), batch_y.to(device)\n",
    "        outputs = model(batch_x)\n",
    "        _, predicted = torch.max(outputs.data, 1)\n",
    "        total += batch_y.size(0)\n",
    "        correct += (predicted == batch_y).sum().item()\n",
    "        \n",
    "        all_predictions.extend(predicted.cpu().numpy())\n",
    "        all_targets.extend(batch_y.cpu().numpy())\n",
    "\n",
    "test_acc = 100 * correct / total\n",
    "print(f\"PyTorch CNN Test Accuracy: {test_acc:.2f}%\")\n",
    "\n",
    "# Calculate F1 score\n",
    "from sklearn.metrics import f1_score\n",
    "f1_pytorch = f1_score(all_targets, all_predictions, average='weighted')\n",
    "print(f\"PyTorch CNN F1-Score: {f1_pytorch:.3f}\")"
   ]
  },
  {
   "cell_type": "code",
   "execution_count": 14,
   "id": "25e4f3ae",
   "metadata": {},
   "outputs": [
    {
     "data": {
      "image/png": "[encoded data removed]",
      "text/plain": [
       "<Figure size 1200x400 with 2 Axes>"
      ]
     },
     "metadata": {},
     "output_type": "display_data"
    }
   ],
   "source": [
    "# Plot training progress\n",
    "fig, (ax1, ax2) = plt.subplots(1, 2, figsize=(12, 4))\n",
    "\n",
    "ax1.plot(train_losses)\n",
    "ax1.set_title('Training Loss')\n",
    "ax1.set_xlabel('Epoch')\n",
    "ax1.set_ylabel('Loss')\n",
    "\n",
    "ax2.plot(val_accuracies)\n",
    "ax2.set_title('Validation Accuracy')\n",
    "ax2.set_xlabel('Epoch')\n",
    "ax2.set_ylabel('Accuracy (%)')\n",
    "\n",
    "plt.tight_layout()\n",
    "plt.show()"
   ]
  },
  {
   "cell_type": "markdown",
   "id": "ed887788",
   "metadata": {},
   "source": [
    "## Comparison of Results\n",
    "\n",
    "Let's compare the performance of different approaches:\n",
    "\n",
    "1. **Logistic Regression with TF-IDF**: Traditional machine learning approach\n",
    "2. **PyTorch CNN with Embeddings**: Deep learning approach using PyTorch\n",
    "\n",
    "The PyTorch implementation replaces the original TensorFlow/Keras components:\n",
    "- `tensorflow.keras.Sequential` → `torch.nn.Module`\n",
    "- `tensorflow.keras.layers.Embedding` → `torch.nn.Embedding`\n",
    "- `tensorflow.keras.layers.Conv1D` → `torch.nn.Conv1d`\n",
    "- `tensorflow.keras.layers.Dense` → `torch.nn.Linear`\n",
    "- `model.compile()` → Manual loss function and optimizer setup\n",
    "- `model.fit()` → Custom training loop\n",
    "- `model.evaluate()` → Custom evaluation loop"
   ]
  },
  {
   "cell_type": "code",
   "execution_count": 15,
   "id": "e661febb",
   "metadata": {},
   "outputs": [
    {
     "name": "stdout",
     "output_type": "stream",
     "text": [
      "PyTorch model saved as 'model_pytorch.pth'\n",
      "Complete model information saved as 'model_complete_pytorch.pth'\n"
     ]
    }
   ],
   "source": [
    "# Save the PyTorch model\n",
    "torch.save(model.state_dict(), 'model_pytorch.pth')\n",
    "print(\"PyTorch model saved as 'model_pytorch.pth'\")\n",
    "\n",
    "# Save model architecture and weights for later use\n",
    "torch.save({\n",
    "    'model_state_dict': model.state_dict(),\n",
    "    'optimizer_state_dict': optimizer.state_dict(),\n",
    "    'vocabulary': vectorizer.get_vocabulary(),\n",
    "    'num_classes': num_classes,\n",
    "    'embedding_dim': embedding_dim\n",
    "}, 'model_complete_pytorch.pth')\n",
    "\n",
    "print(\"Complete model information saved as 'model_complete_pytorch.pth'\")"
   ]
  },
  {
   "cell_type": "markdown",
   "id": "2d7164f5",
   "metadata": {},
   "source": [
    "## Key Differences: TensorFlow/Keras vs PyTorch\n",
    "\n",
    "### TensorFlow/Keras (Original):\n",
    "```python\n",
    "from tensorflow import keras\n",
    "from tensorflow.keras import layers\n",
    "\n",
    "model = keras.Sequential([\n",
    "    layers.Embedding(num_tokens, embedding_dim),\n",
    "    layers.Conv1D(128, 5, activation=\"relu\"),\n",
    "    layers.MaxPool1D(2),\n",
    "    layers.Dense(num_classes, activation='softmax')\n",
    "])\n",
    "\n",
    "model.compile(optimizer='RMSprop', \n",
    "              loss='sparse_categorical_crossentropy', \n",
    "              metrics=['accuracy'])\n",
    "              \n",
    "model.fit(x_train, y_train, epochs=20, validation_data=(x_val, y_val))\n",
    "```\n",
    "\n",
    "### PyTorch (Converted):\n",
    "```python\n",
    "import torch\n",
    "import torch.nn as nn\n",
    "import torch.optim as optim\n",
    "\n",
    "class TextCNN(nn.Module):\n",
    "    def __init__(self, num_tokens, embedding_dim, num_classes):\n",
    "        super().__init__()\n",
    "        self.embedding = nn.Embedding(num_tokens, embedding_dim)\n",
    "        self.conv1 = nn.Conv1d(embedding_dim, 128, 5)\n",
    "        self.maxpool = nn.MaxPool1d(2)\n",
    "        self.dense = nn.Linear(128, num_classes)\n",
    "    \n",
    "    def forward(self, x):\n",
    "        x = self.embedding(x)\n",
    "        x = x.transpose(1, 2)\n",
    "        x = F.relu(self.conv1(x))\n",
    "        x = self.maxpool(x)\n",
    "        return self.dense(x)\n",
    "\n",
    "model = TextCNN(num_tokens, embedding_dim, num_classes)\n",
    "criterion = nn.CrossEntropyLoss()\n",
    "optimizer = optim.RMSprop(model.parameters())\n",
    "\n",
    "# Manual training loop replaces model.fit()\n",
    "for epoch in range(20):\n",
    "    for batch_x, batch_y in train_loader:\n",
    "        optimizer.zero_grad()\n",
    "        outputs = model(batch_x)\n",
    "        loss = criterion(outputs, batch_y)\n",
    "        loss.backward()\n",
    "        optimizer.step()\n",
    "```\n",
    "\n",
    "### Key Benefits of PyTorch:\n",
    "- **Dynamic computation graphs**: More flexible for research and debugging\n",
    "- **Pythonic**: More intuitive for Python developers\n",
    "- **Better debugging**: Easier to debug with standard Python tools\n",
    "- **Research-friendly**: Preferred in academic and research communities\n",
    "- **Growing ecosystem**: Increasing adoption and community support"
   ]
  }
 ],
 "metadata": {
  "kernelspec": {
   "display_name": ".venv",
   "language": "python",
   "name": "python3"
  },
  "language_info": {
   "codemirror_mode": {
    "name": "ipython",
    "version": 3
   },
   "file_extension": ".py",
   "mimetype": "text/x-python",
   "name": "python",
   "nbconvert_exporter": "python",
   "pygments_lexer": "ipython3",
   "version": "3.12.3"
  }
 },
 "nbformat": 4,
 "nbformat_minor": 5
}
