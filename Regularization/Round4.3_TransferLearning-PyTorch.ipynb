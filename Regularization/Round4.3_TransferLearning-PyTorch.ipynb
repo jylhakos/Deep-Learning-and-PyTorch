{
 "cells": [
  {
   "cell_type": "markdown",
   "id": "13c9243f",
   "metadata": {},
   "source": [
    "# PyTorch Transfer Learning\n",
    "\n",
    "Transfer Learning is a machine learning technique where a pre-trained model is adapted for a new, related task. PyTorch makes transfer learning easy with pre-trained models available in `torchvision.models`."
   ]
  }
 ],
 "metadata": {
  "language_info": {
   "name": "python"
  }
 },
 "nbformat": 4,
 "nbformat_minor": 5
}
