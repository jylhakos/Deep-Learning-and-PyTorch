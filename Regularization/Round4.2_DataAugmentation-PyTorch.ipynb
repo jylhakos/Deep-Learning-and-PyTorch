{
 "cells": [
  {
   "cell_type": "markdown",
   "id": "d3e37f4c",
   "metadata": {},
   "source": [
    "# PyTorch Data Augmentation\n",
    "\n",
    "Data augmentation is a technique to artificially increase the size of your training dataset by applying various transformations to existing images. PyTorch provides excellent support for data augmentation through the `torchvision.transforms` module."
   ]
  }
 ],
 "metadata": {
  "language_info": {
   "name": "python"
  }
 },
 "nbformat": 4,
 "nbformat_minor": 5
}
